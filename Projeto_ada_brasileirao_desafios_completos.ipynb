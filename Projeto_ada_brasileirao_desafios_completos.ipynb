{
  "nbformat": 4,
  "nbformat_minor": 0,
  "metadata": {
    "colab": {
      "provenance": []
    },
    "kernelspec": {
      "name": "python3",
      "display_name": "Python 3"
    },
    "language_info": {
      "name": "python"
    }
  },
  "cells": [
    {
      "cell_type": "markdown",
      "source": [
        "# **Projeto: Descobrindo técnicos do Brasileirão**"
      ],
      "metadata": {
        "id": "rl_QQkjFcVlY"
      }
    },
    {
      "cell_type": "markdown",
      "source": [
        "# Desafio\n",
        "Dado um arquivo, do tipo JSON, contendo uma infinidade de informações de cada jogo do Brasileirão de 2023, extrair e mostrar todos os técnicos que estiverem presentes nos jogos."
      ],
      "metadata": {
        "id": "0ynVrhppea7S"
      }
    },
    {
      "cell_type": "code",
      "execution_count": 2,
      "metadata": {
        "id": "eJ8uaPCPhdmc"
      },
      "outputs": [],
      "source": [
        "from google.colab import files\n"
      ]
    },
    {
      "cell_type": "code",
      "source": [
        "uploaded = files.upload()\n"
      ],
      "metadata": {
        "colab": {
          "base_uri": "https://localhost:8080/",
          "height": 73
        },
        "id": "4_ECnIuzhl7I",
        "outputId": "381e8231-b32a-4db7-8341-f9ada7c817b2"
      },
      "execution_count": 3,
      "outputs": [
        {
          "output_type": "display_data",
          "data": {
            "text/plain": [
              "<IPython.core.display.HTML object>"
            ],
            "text/html": [
              "\n",
              "     <input type=\"file\" id=\"files-6e115bb5-db14-42c6-87ad-ee371390c866\" name=\"files[]\" multiple disabled\n",
              "        style=\"border:none\" />\n",
              "     <output id=\"result-6e115bb5-db14-42c6-87ad-ee371390c866\">\n",
              "      Upload widget is only available when the cell has been executed in the\n",
              "      current browser session. Please rerun this cell to enable.\n",
              "      </output>\n",
              "      <script>// Copyright 2017 Google LLC\n",
              "//\n",
              "// Licensed under the Apache License, Version 2.0 (the \"License\");\n",
              "// you may not use this file except in compliance with the License.\n",
              "// You may obtain a copy of the License at\n",
              "//\n",
              "//      http://www.apache.org/licenses/LICENSE-2.0\n",
              "//\n",
              "// Unless required by applicable law or agreed to in writing, software\n",
              "// distributed under the License is distributed on an \"AS IS\" BASIS,\n",
              "// WITHOUT WARRANTIES OR CONDITIONS OF ANY KIND, either express or implied.\n",
              "// See the License for the specific language governing permissions and\n",
              "// limitations under the License.\n",
              "\n",
              "/**\n",
              " * @fileoverview Helpers for google.colab Python module.\n",
              " */\n",
              "(function(scope) {\n",
              "function span(text, styleAttributes = {}) {\n",
              "  const element = document.createElement('span');\n",
              "  element.textContent = text;\n",
              "  for (const key of Object.keys(styleAttributes)) {\n",
              "    element.style[key] = styleAttributes[key];\n",
              "  }\n",
              "  return element;\n",
              "}\n",
              "\n",
              "// Max number of bytes which will be uploaded at a time.\n",
              "const MAX_PAYLOAD_SIZE = 100 * 1024;\n",
              "\n",
              "function _uploadFiles(inputId, outputId) {\n",
              "  const steps = uploadFilesStep(inputId, outputId);\n",
              "  const outputElement = document.getElementById(outputId);\n",
              "  // Cache steps on the outputElement to make it available for the next call\n",
              "  // to uploadFilesContinue from Python.\n",
              "  outputElement.steps = steps;\n",
              "\n",
              "  return _uploadFilesContinue(outputId);\n",
              "}\n",
              "\n",
              "// This is roughly an async generator (not supported in the browser yet),\n",
              "// where there are multiple asynchronous steps and the Python side is going\n",
              "// to poll for completion of each step.\n",
              "// This uses a Promise to block the python side on completion of each step,\n",
              "// then passes the result of the previous step as the input to the next step.\n",
              "function _uploadFilesContinue(outputId) {\n",
              "  const outputElement = document.getElementById(outputId);\n",
              "  const steps = outputElement.steps;\n",
              "\n",
              "  const next = steps.next(outputElement.lastPromiseValue);\n",
              "  return Promise.resolve(next.value.promise).then((value) => {\n",
              "    // Cache the last promise value to make it available to the next\n",
              "    // step of the generator.\n",
              "    outputElement.lastPromiseValue = value;\n",
              "    return next.value.response;\n",
              "  });\n",
              "}\n",
              "\n",
              "/**\n",
              " * Generator function which is called between each async step of the upload\n",
              " * process.\n",
              " * @param {string} inputId Element ID of the input file picker element.\n",
              " * @param {string} outputId Element ID of the output display.\n",
              " * @return {!Iterable<!Object>} Iterable of next steps.\n",
              " */\n",
              "function* uploadFilesStep(inputId, outputId) {\n",
              "  const inputElement = document.getElementById(inputId);\n",
              "  inputElement.disabled = false;\n",
              "\n",
              "  const outputElement = document.getElementById(outputId);\n",
              "  outputElement.innerHTML = '';\n",
              "\n",
              "  const pickedPromise = new Promise((resolve) => {\n",
              "    inputElement.addEventListener('change', (e) => {\n",
              "      resolve(e.target.files);\n",
              "    });\n",
              "  });\n",
              "\n",
              "  const cancel = document.createElement('button');\n",
              "  inputElement.parentElement.appendChild(cancel);\n",
              "  cancel.textContent = 'Cancel upload';\n",
              "  const cancelPromise = new Promise((resolve) => {\n",
              "    cancel.onclick = () => {\n",
              "      resolve(null);\n",
              "    };\n",
              "  });\n",
              "\n",
              "  // Wait for the user to pick the files.\n",
              "  const files = yield {\n",
              "    promise: Promise.race([pickedPromise, cancelPromise]),\n",
              "    response: {\n",
              "      action: 'starting',\n",
              "    }\n",
              "  };\n",
              "\n",
              "  cancel.remove();\n",
              "\n",
              "  // Disable the input element since further picks are not allowed.\n",
              "  inputElement.disabled = true;\n",
              "\n",
              "  if (!files) {\n",
              "    return {\n",
              "      response: {\n",
              "        action: 'complete',\n",
              "      }\n",
              "    };\n",
              "  }\n",
              "\n",
              "  for (const file of files) {\n",
              "    const li = document.createElement('li');\n",
              "    li.append(span(file.name, {fontWeight: 'bold'}));\n",
              "    li.append(span(\n",
              "        `(${file.type || 'n/a'}) - ${file.size} bytes, ` +\n",
              "        `last modified: ${\n",
              "            file.lastModifiedDate ? file.lastModifiedDate.toLocaleDateString() :\n",
              "                                    'n/a'} - `));\n",
              "    const percent = span('0% done');\n",
              "    li.appendChild(percent);\n",
              "\n",
              "    outputElement.appendChild(li);\n",
              "\n",
              "    const fileDataPromise = new Promise((resolve) => {\n",
              "      const reader = new FileReader();\n",
              "      reader.onload = (e) => {\n",
              "        resolve(e.target.result);\n",
              "      };\n",
              "      reader.readAsArrayBuffer(file);\n",
              "    });\n",
              "    // Wait for the data to be ready.\n",
              "    let fileData = yield {\n",
              "      promise: fileDataPromise,\n",
              "      response: {\n",
              "        action: 'continue',\n",
              "      }\n",
              "    };\n",
              "\n",
              "    // Use a chunked sending to avoid message size limits. See b/62115660.\n",
              "    let position = 0;\n",
              "    do {\n",
              "      const length = Math.min(fileData.byteLength - position, MAX_PAYLOAD_SIZE);\n",
              "      const chunk = new Uint8Array(fileData, position, length);\n",
              "      position += length;\n",
              "\n",
              "      const base64 = btoa(String.fromCharCode.apply(null, chunk));\n",
              "      yield {\n",
              "        response: {\n",
              "          action: 'append',\n",
              "          file: file.name,\n",
              "          data: base64,\n",
              "        },\n",
              "      };\n",
              "\n",
              "      let percentDone = fileData.byteLength === 0 ?\n",
              "          100 :\n",
              "          Math.round((position / fileData.byteLength) * 100);\n",
              "      percent.textContent = `${percentDone}% done`;\n",
              "\n",
              "    } while (position < fileData.byteLength);\n",
              "  }\n",
              "\n",
              "  // All done.\n",
              "  yield {\n",
              "    response: {\n",
              "      action: 'complete',\n",
              "    }\n",
              "  };\n",
              "}\n",
              "\n",
              "scope.google = scope.google || {};\n",
              "scope.google.colab = scope.google.colab || {};\n",
              "scope.google.colab._files = {\n",
              "  _uploadFiles,\n",
              "  _uploadFilesContinue,\n",
              "};\n",
              "})(self);\n",
              "</script> "
            ]
          },
          "metadata": {}
        },
        {
          "output_type": "stream",
          "name": "stdout",
          "text": [
            "Saving brasileirao-2023.json to brasileirao-2023.json\n"
          ]
        }
      ]
    },
    {
      "cell_type": "code",
      "source": [
        "import json\n",
        "\n",
        "with open('brasileirao-2023.json', 'r', encoding='utf-8') as f:\n",
        "    dados = json.load(f)\n"
      ],
      "metadata": {
        "id": "kq-NUrv5h7gs"
      },
      "execution_count": 4,
      "outputs": []
    },
    {
      "cell_type": "code",
      "source": [
        "print(type(dados))\n"
      ],
      "metadata": {
        "colab": {
          "base_uri": "https://localhost:8080/"
        },
        "id": "LUopclOpgHpm",
        "outputId": "01e1f4fc-848b-40fe-c8f5-87c0ebe2d876"
      },
      "execution_count": 5,
      "outputs": [
        {
          "output_type": "stream",
          "name": "stdout",
          "text": [
            "<class 'dict'>\n"
          ]
        }
      ]
    },
    {
      "cell_type": "code",
      "source": [
        "print(dados.keys())\n"
      ],
      "metadata": {
        "colab": {
          "base_uri": "https://localhost:8080/"
        },
        "id": "2i1YUwJ9gXKz",
        "outputId": "1f9b5feb-ad36-4508-ba53-4db100d5a77e"
      },
      "execution_count": 6,
      "outputs": [
        {
          "output_type": "stream",
          "name": "stdout",
          "text": [
            "dict_keys(['1', '2', '3', '4', '5', '6', '7', '8', '9', '10', '11', '12', '13', '14', '15', '16', '17', '18', '19', '20', '21', '22', '23', '24', '25', '26', '27', '28', '29', '30', '31', '32', '33', '34', '35', '36', '37', '38'])\n"
          ]
        }
      ]
    },
    {
      "cell_type": "code",
      "source": [
        "import json\n",
        "print(json.dumps(dados['1'][0], indent=2, ensure_ascii=False))\n"
      ],
      "metadata": {
        "colab": {
          "base_uri": "https://localhost:8080/"
        },
        "id": "Cm6AQKSohKRC",
        "outputId": "0b2aefe9-4af7-4ea7-86d9-d6929476c0ba"
      },
      "execution_count": 7,
      "outputs": [
        {
          "output_type": "stream",
          "name": "stdout",
          "text": [
            "{\n",
            "  \"clubs\": {\n",
            "    \"home\": \"Palmeiras\",\n",
            "    \"away\": \"Cuiabá\"\n",
            "  },\n",
            "  \"goals\": {\n",
            "    \"home\": \"2\",\n",
            "    \"away\": \"1\"\n",
            "  },\n",
            "  \"cards\": {\n",
            "    \"home\": {\n",
            "      \"yellow\": [\n",
            "        {\n",
            "          \"time\": \"66'\",\n",
            "          \"player\": \"Jhonatan dos Santos Rosa\",\n",
            "          \"position\": \"Meio-campo\",\n",
            "          \"number\": \"40\"\n",
            "        },\n",
            "        {\n",
            "          \"time\": \"37'\",\n",
            "          \"player\": \"José Manuel Alberto López\",\n",
            "          \"position\": \"Meio-campo\",\n",
            "          \"number\": \"18\"\n",
            "        }\n",
            "      ],\n",
            "      \"red\": []\n",
            "    },\n",
            "    \"away\": {\n",
            "      \"yellow\": [\n",
            "        {\n",
            "          \"time\": \"52'\",\n",
            "          \"player\": \"Filipe Augusto Carvalho Souza\",\n",
            "          \"position\": \"Meio-campo\",\n",
            "          \"number\": \"5\"\n",
            "        },\n",
            "        {\n",
            "          \"time\": \"48'\",\n",
            "          \"player\": \"Mateusinho\",\n",
            "          \"position\": \"Zagueiro\",\n",
            "          \"number\": \"98\"\n",
            "        },\n",
            "        {\n",
            "          \"time\": \"45+4'\",\n",
            "          \"player\": \"Jonathan Cafú\",\n",
            "          \"position\": \"Meio-campo\",\n",
            "          \"number\": \"7\"\n",
            "        },\n",
            "        {\n",
            "          \"time\": \"6'\",\n",
            "          \"player\": \"Deyverson\",\n",
            "          \"position\": \"Atacante\",\n",
            "          \"number\": \"16\"\n",
            "        }\n",
            "      ],\n",
            "      \"red\": [\n",
            "        {\n",
            "          \"time\": \"57'\",\n",
            "          \"player\": \"Filipe Augusto Carvalho Souza\",\n",
            "          \"position\": \"Meio-campo\",\n",
            "          \"number\": \"5\"\n",
            "        }\n",
            "      ]\n",
            "    }\n",
            "  },\n",
            "  \"hour\": \"16:01\",\n",
            "  \"date\": \"15/04/23\",\n",
            "  \"coach\": {\n",
            "    \"home\": \"A. Moreira Ferreira\",\n",
            "    \"away\": \"I. Abreu Vieira\"\n",
            "  },\n",
            "  \"formation\": {\n",
            "    \"home\": \"4-2-3-1\",\n",
            "    \"away\": \"4-2-3-1\"\n",
            "  },\n",
            "  \"goalsPlayer\": {\n",
            "    \"home\": [\n",
            "      {\n",
            "        \"player\": \"Endrick\",\n",
            "        \"gols\": [\n",
            "          \"5'\"\n",
            "        ]\n",
            "      },\n",
            "      {\n",
            "        \"player\": \"José Manuel Alberto López\",\n",
            "        \"gols\": [\n",
            "          \"65'\"\n",
            "        ]\n",
            "      }\n",
            "    ],\n",
            "    \"away\": [\n",
            "      {\n",
            "        \"player\": \"Raniele\",\n",
            "        \"gols\": [\n",
            "          \"45+7'\"\n",
            "        ]\n",
            "      }\n",
            "    ]\n",
            "  },\n",
            "  \"stadium\": \"Allianz Parque\",\n",
            "  \"stats\": [\n",
            "    {\n",
            "      \"home\": \"17\",\n",
            "      \"stat\": \"Chutes\",\n",
            "      \"away\": \"12\"\n",
            "    },\n",
            "    {\n",
            "      \"home\": \"5\",\n",
            "      \"stat\": \"Chutes a gol\",\n",
            "      \"away\": \"4\"\n",
            "    },\n",
            "    {\n",
            "      \"home\": \"52%\",\n",
            "      \"stat\": \"Posse de bola\",\n",
            "      \"away\": \"48%\"\n",
            "    },\n",
            "    {\n",
            "      \"home\": \"455\",\n",
            "      \"stat\": \"Passes\",\n",
            "      \"away\": \"427\"\n",
            "    },\n",
            "    {\n",
            "      \"home\": \"84%\",\n",
            "      \"stat\": \"Precisão de passe\",\n",
            "      \"away\": \"79%\"\n",
            "    },\n",
            "    {\n",
            "      \"home\": \"23\",\n",
            "      \"stat\": \"Faltas\",\n",
            "      \"away\": \"12\"\n",
            "    },\n",
            "    {\n",
            "      \"home\": \"2\",\n",
            "      \"stat\": \"Cartões amarelos\",\n",
            "      \"away\": \"3\"\n",
            "    },\n",
            "    {\n",
            "      \"home\": \"0\",\n",
            "      \"stat\": \"Cartões vermelhos\",\n",
            "      \"away\": \"1\"\n",
            "    },\n",
            "    {\n",
            "      \"home\": \"3\",\n",
            "      \"stat\": \"Impedimentos\",\n",
            "      \"away\": \"2\"\n",
            "    },\n",
            "    {\n",
            "      \"home\": \"4\",\n",
            "      \"stat\": \"Escanteios\",\n",
            "      \"away\": \"4\"\n",
            "    }\n",
            "  ]\n",
            "}\n"
          ]
        }
      ]
    },
    {
      "cell_type": "code",
      "source": [
        "tecnicos = set()\n",
        "\n",
        "for rodada in dados.values():  # percorre as 38 rodadas\n",
        "    for jogo in rodada:        # percorre os jogos da rodada\n",
        "        tecnico_home = jogo.get('coach', {}).get('home')\n",
        "        tecnico_away = jogo.get('coach', {}).get('away')\n",
        "\n",
        "        if tecnico_home:\n",
        "            tecnicos.add(tecnico_home)\n",
        "        if tecnico_away:\n",
        "            tecnicos.add(tecnico_away)\n",
        "\n",
        "# Exibição dos técnicos em ordem alfabética\n",
        "for nome in sorted(tecnicos):\n",
        "    print(nome)\n"
      ],
      "metadata": {
        "colab": {
          "base_uri": "https://localhost:8080/"
        },
        "id": "Zed4Aoxihqfp",
        "outputId": "c8fef9a5-1067-4875-c828-877b74c5fe99"
      },
      "execution_count": 8,
      "outputs": [
        {
          "output_type": "stream",
          "name": "stdout",
          "text": [
            "A. Bacchi\n",
            "A. C. Pracidelli\n",
            "A. Cardoso de Oliveira\n",
            "A. Evangelista Macedo Freitas\n",
            "A. Ferreira\n",
            "A. Moreira Ferreira\n",
            "A. P. Mendes\n",
            "A. Stival\n",
            "A. Zago\n",
            "B. Lazaroni\n",
            "B. Nascimento\n",
            "C. Maldonado\n",
            "C. Salenave Santiago\n",
            "C. da Silva\n",
            "D. Aguirre Camblor\n",
            "D. Giacomini\n",
            "D. Silvestre Júnior\n",
            "Danilo\n",
            "E. Coudet\n",
            "E. Rodrigues de Ávila\n",
            "E. de Barros\n",
            "F. Bustos\n",
            "F. Diniz Silva\n",
            "F. Lázaro Rodrigues Alves\n",
            "F. Paiva Endres\n",
            "F. Seabra\n",
            "G. Dalzotto Bossle\n",
            "I. Abreu Vieira\n",
            "J. M. Barreto Martins\n",
            "J. Mannarino\n",
            "J. Sampaoli Moya\n",
            "J. Vojvoda\n",
            "L. Campos Borges\n",
            "L. De Souza\n",
            "L. Flávio\n",
            "L. González\n",
            "L. Iubel\n",
            "L. Ribeiro de Castro\n",
            "L. Scolari\n",
            "L. Silvestre\n",
            "L. Venker de Menezes\n",
            "M. Fernandes\n",
            "M. Henrique\n",
            "M. J\n",
            "M. Nogueira Barbieri\n",
            "O. Hellmann\n",
            "P. Autuori de Mello\n",
            "P. Faria Caixinha\n",
            "P. Marques da Costa Filipe\n",
            "P. Turra\n",
            "R. Alves Paiva\n",
            "R. Ceni\n",
            "R. Díaz\n",
            "R. I. do Nascimento\n",
            "Renato Gaúcho\n",
            "S. De Azevedo Correia\n",
            "S. Lobo\n",
            "T. Kosloski\n",
            "T. Retzalff Nunes\n",
            "V. Carmo Mancini\n",
            "V. Castanheira Penas\n",
            "V. Luxemburgo da Silva\n",
            "V. Severino\n",
            "W. Alves\n",
            "W. B. de Almeida\n",
            "W. Carvalho\n"
          ]
        }
      ]
    },
    {
      "cell_type": "code",
      "source": [
        "print(f\"Total de técnicos únicos: {len(tecnicos)}\")\n"
      ],
      "metadata": {
        "colab": {
          "base_uri": "https://localhost:8080/"
        },
        "id": "BYxuusgnjsKT",
        "outputId": "6ab2945d-34d0-4625-cfd1-77c8fac043a6"
      },
      "execution_count": 9,
      "outputs": [
        {
          "output_type": "stream",
          "name": "stdout",
          "text": [
            "Total de técnicos únicos: 66\n"
          ]
        }
      ]
    },
    {
      "cell_type": "markdown",
      "source": [
        "# Desafio Extra 1\n",
        "\n",
        "Lista de técnicos mais longevos:"
      ],
      "metadata": {
        "id": "fXSE1B9kFJ9y"
      }
    },
    {
      "cell_type": "code",
      "source": [
        "from collections import defaultdict\n",
        "\n",
        "# Dicionário para armazenar: clube -> técnico -> número de jogos\n",
        "comandos = defaultdict(lambda: defaultdict(int))\n",
        "\n",
        "# Percorrer rodadas e jogos\n",
        "for rodada in dados.values():\n",
        "    for jogo in rodada:\n",
        "        coach = jogo.get('coach', {})\n",
        "        clubs = jogo.get('clubs', {})\n",
        "\n",
        "        # Técnico e clube mandante\n",
        "        tecnico_home = coach.get('home')\n",
        "        clube_home = clubs.get('home')\n",
        "        if tecnico_home and clube_home:\n",
        "            comandos[clube_home][tecnico_home] += 1\n",
        "\n",
        "        # Técnico e clube visitante\n",
        "        tecnico_away = coach.get('away')\n",
        "        clube_away = clubs.get('away')\n",
        "        if tecnico_away and clube_away:\n",
        "            comandos[clube_away][tecnico_away] += 1\n",
        "\n",
        "# Técnico mais longevo (maior número de jogos) por clube\n",
        "tecnicos_longevos = []\n",
        "\n",
        "for clube, tecnicos in comandos.items():\n",
        "    tecnico_mais_longevo = max(tecnicos.items(), key=lambda x: x[1])\n",
        "    tecnicos_longevos.append((clube, tecnico_mais_longevo[0], tecnico_mais_longevo[1]))\n",
        "\n",
        "# Ordenar por técnico mais longevo, em ordem decrescente\n",
        "tecnicos_longevos.sort(key=lambda x: x[2], reverse=True)\n",
        "\n",
        "\n",
        "# Exibir\n",
        "for item in tecnicos_longevos:\n",
        "    print(item)\n"
      ],
      "metadata": {
        "colab": {
          "base_uri": "https://localhost:8080/"
        },
        "id": "2LSn2GOUFfQw",
        "outputId": "dd25e83a-35b4-44b3-d505-0814f30447aa"
      },
      "execution_count": 11,
      "outputs": [
        {
          "output_type": "stream",
          "name": "stdout",
          "text": [
            "('Bragantino', 'P. Faria Caixinha', 38)\n",
            "('Fortaleza', 'J. Vojvoda', 38)\n",
            "('Grêmio', 'Renato Gaúcho', 37)\n",
            "('São Paulo', 'D. Silvestre Júnior', 35)\n",
            "('Fluminense', 'F. Diniz Silva', 33)\n",
            "('Palmeiras', 'A. Moreira Ferreira', 32)\n",
            "('Cuiabá', 'A. Cardoso de Oliveira', 28)\n",
            "('Athletico-PR', 'W. Carvalho', 28)\n",
            "('Atlético-MG', 'L. Scolari', 26)\n",
            "('Vasco da Gama', 'R. Díaz', 24)\n",
            "('Flamengo', 'J. Sampaoli Moya', 24)\n",
            "('Goiás', 'A. Evangelista Macedo Freitas', 23)\n",
            "('Bahia', 'R. Alves Paiva', 22)\n",
            "('Internacional', 'E. Coudet', 22)\n",
            "('Corinthians', 'V. Luxemburgo da Silva', 21)\n",
            "('Coritiba', 'T. Kosloski', 21)\n",
            "('Cruzeiro', 'P. Marques da Costa Filipe', 20)\n",
            "('América-MG', 'V. Carmo Mancini', 17)\n",
            "('Santos', 'M. Fernandes', 15)\n",
            "('Botafogo', 'L. Ribeiro de Castro', 11)\n"
          ]
        }
      ]
    },
    {
      "cell_type": "markdown",
      "source": [
        "# Desafio Extra 2\n",
        "\n",
        "Tabela final contendo:\n",
        "\n",
        "- Posição (pos)\n",
        "- Nome do clube (Equipe)\n",
        "- Pontos (Pts)\n",
        "- Número de vitórias (V)\n",
        "- Número de empates (E)\n",
        "- Número de derrotas (D)\n",
        "- Gols feitos/Gols pró (GP)\n",
        "- Gols sofridos/Gols contra (GC)\n",
        "- Saldo de gols (SG)\n",
        "\n"
      ],
      "metadata": {
        "id": "HFWdV6S9G45V"
      }
    },
    {
      "cell_type": "code",
      "source": [
        "from collections import defaultdict\n",
        "\n",
        "# Estrutura para guardar estatísticas dos clubes\n",
        "tabela = defaultdict(lambda: {\n",
        "    'Pts': 0,\n",
        "    'V': 0,\n",
        "    'E': 0,\n",
        "    'D': 0,\n",
        "    'GP': 0,\n",
        "    'GC': 0\n",
        "})\n",
        "\n",
        "# Percorrer rodadas e jogos\n",
        "for rodada in dados.values():\n",
        "    for jogo in rodada:\n",
        "        clubes = jogo.get('clubs', {})\n",
        "        gols = jogo.get('goals', {})\n",
        "\n",
        "        mandante = clubes.get('home')\n",
        "        visitante = clubes.get('away')\n",
        "\n",
        "        gols_mandante = int(gols.get('home', 0))\n",
        "        gols_visitante = int(gols.get('away', 0))\n",
        "\n",
        "        # Atualiza gols feitos e sofridos\n",
        "        tabela[mandante]['GP'] += gols_mandante\n",
        "        tabela[mandante]['GC'] += gols_visitante\n",
        "\n",
        "        tabela[visitante]['GP'] += gols_visitante\n",
        "        tabela[visitante]['GC'] += gols_mandante\n",
        "\n",
        "        # Determina resultado\n",
        "        if gols_mandante > gols_visitante:\n",
        "            # Vitória mandante\n",
        "            tabela[mandante]['V'] += 1\n",
        "            tabela[mandante]['Pts'] += 3\n",
        "            tabela[visitante]['D'] += 1\n",
        "        elif gols_visitante > gols_mandante:\n",
        "            # Vitória visitante\n",
        "            tabela[visitante]['V'] += 1\n",
        "            tabela[visitante]['Pts'] += 3\n",
        "            tabela[mandante]['D'] += 1\n",
        "        else:\n",
        "            # Empate\n",
        "            tabela[mandante]['E'] += 1\n",
        "            tabela[visitante]['E'] += 1\n",
        "            tabela[mandante]['Pts'] += 1\n",
        "            tabela[visitante]['Pts'] += 1\n",
        "\n",
        "# Calcular saldo de gols (SG)\n",
        "for clube, stats in tabela.items():\n",
        "    stats['SG'] = stats['GP'] - stats['GC']\n",
        "\n",
        "# Converter para lista ordenada\n",
        "tabela_final = sorted(\n",
        "    [(clube, valores['Pts'], valores['V'], valores['E'], valores['D'], valores['GP'], valores['GC'], valores['SG'])\n",
        "     for clube, valores in tabela.items()],\n",
        "    key=lambda x: (-x[1], -x[2], -x[7])  # Ordenar por Pts, Vitórias, SG\n",
        ")\n",
        "\n",
        "# Exibir tabela formatada\n",
        "print(f\"{'Pos':<4}{'Equipe':<20}{'Pts':>4}{'V':>4}{'E':>4}{'D':>4}{'GP':>5}{'GC':>5}{'SG':>5}\")\n",
        "for i, linha in enumerate(tabela_final, 1):\n",
        "    clube, pts, v, e, d, gp, gc, sg = linha\n",
        "    print(f\"{i:<4}{clube:<20}{pts:>4}{v:>4}{e:>4}{d:>4}{gp:>5}{gc:>5}{sg:>5}\")\n"
      ],
      "metadata": {
        "colab": {
          "base_uri": "https://localhost:8080/"
        },
        "id": "mkMQRBo8HniB",
        "outputId": "a716a988-4ee9-4ae5-c030-98051b4a12f2"
      },
      "execution_count": 12,
      "outputs": [
        {
          "output_type": "stream",
          "name": "stdout",
          "text": [
            "Pos Equipe               Pts   V   E   D   GP   GC   SG\n",
            "1   Palmeiras             70  20  10   8   64   33   31\n",
            "2   Grêmio                68  21   5  12   63   56    7\n",
            "3   Atlético-MG           66  19   9  10   52   32   20\n",
            "4   Flamengo              66  19   9  10   56   42   14\n",
            "5   Botafogo              64  18  10  10   58   37   21\n",
            "6   Bragantino            62  17  11  10   49   35   14\n",
            "7   Fluminense            56  16   8  14   51   47    4\n",
            "8   Athletico-PR          56  14  14  10   51   43    8\n",
            "9   Internacional         55  15  10  13   46   45    1\n",
            "10  Fortaleza             54  15   9  14   45   44    1\n",
            "11  São Paulo             53  14  11  13   40   38    2\n",
            "12  Cuiabá                51  14   9  15   40   39    1\n",
            "13  Corinthians           50  12  14  12   47   48   -1\n",
            "14  Cruzeiro              47  11  14  13   35   32    3\n",
            "15  Vasco da Gama         45  12   9  17   41   51  -10\n",
            "16  Bahia                 44  12   8  18   50   53   -3\n",
            "17  Santos                43  11  10  17   39   64  -25\n",
            "18  Goiás                 38   9  11  18   36   53  -17\n",
            "19  Coritiba              30   8   6  24   41   73  -32\n",
            "20  América-MG            24   5   9  24   42   81  -39\n"
          ]
        }
      ]
    },
    {
      "cell_type": "markdown",
      "source": [
        "# Desafio Extra 3\n",
        "\n",
        "Situação do campeonato na rodada 25:"
      ],
      "metadata": {
        "id": "d1WhKs97ITNd"
      }
    },
    {
      "cell_type": "code",
      "source": [
        "from collections import defaultdict\n",
        "\n",
        "# Rodada alvo\n",
        "rodada_limite = 25\n",
        "\n",
        "# Estatísticas por clube até a rodada 25\n",
        "tabela_parcial = defaultdict(lambda: {\n",
        "    'Pts': 0,\n",
        "    'V': 0,\n",
        "    'E': 0,\n",
        "    'D': 0,\n",
        "    'GP': 0,\n",
        "    'GC': 0,\n",
        "    'PJ': 0\n",
        "})\n",
        "\n",
        "# Processar rodadas de 1 até 25\n",
        "for i in range(1, rodada_limite + 1):\n",
        "    rodada = dados[str(i)]\n",
        "    for jogo in rodada:\n",
        "        clubes = jogo.get('clubs', {})\n",
        "        gols = jogo.get('goals', {})\n",
        "\n",
        "        mandante = clubes.get('home')\n",
        "        visitante = clubes.get('away')\n",
        "\n",
        "        gols_mandante = int(gols.get('home', 0))\n",
        "        gols_visitante = int(gols.get('away', 0))\n",
        "\n",
        "        # Atualiza PJ\n",
        "        tabela_parcial[mandante]['PJ'] += 1\n",
        "        tabela_parcial[visitante]['PJ'] += 1\n",
        "\n",
        "        # Atualiza GP e GC\n",
        "        tabela_parcial[mandante]['GP'] += gols_mandante\n",
        "        tabela_parcial[mandante]['GC'] += gols_visitante\n",
        "\n",
        "        tabela_parcial[visitante]['GP'] += gols_visitante\n",
        "        tabela_parcial[visitante]['GC'] += gols_mandante\n",
        "\n",
        "        # Atualiza pontos, vitórias, empates, derrotas\n",
        "        if gols_mandante > gols_visitante:\n",
        "            tabela_parcial[mandante]['V'] += 1\n",
        "            tabela_parcial[mandante]['Pts'] += 3\n",
        "            tabela_parcial[visitante]['D'] += 1\n",
        "        elif gols_visitante > gols_mandante:\n",
        "            tabela_parcial[visitante]['V'] += 1\n",
        "            tabela_parcial[visitante]['Pts'] += 3\n",
        "            tabela_parcial[mandante]['D'] += 1\n",
        "        else:\n",
        "            tabela_parcial[mandante]['E'] += 1\n",
        "            tabela_parcial[visitante]['E'] += 1\n",
        "            tabela_parcial[mandante]['Pts'] += 1\n",
        "            tabela_parcial[visitante]['Pts'] += 1\n",
        "\n",
        "# Calcular SG\n",
        "for clube, stats in tabela_parcial.items():\n",
        "    stats['SG'] = stats['GP'] - stats['GC']\n",
        "\n",
        "# Organizar como lista e ordenar por Pts, Vitórias, SG\n",
        "tabela_25 = sorted(\n",
        "    [(clube, v['Pts'], v['PJ'], v['V'], v['E'], v['D'], v['GP'], v['GC'], v['SG'])\n",
        "     for clube, v in tabela_parcial.items()],\n",
        "    key=lambda x: (-x[1], -x[3], -x[8])\n",
        ")\n",
        "\n",
        "# Exibir tabela até a rodada 25\n",
        "print(f\"{'Pos':<4}{'Equipe':<20}{'Pts':>4}{'PJ':>4}{'V':>4}{'E':>4}{'D':>4}{'GP':>5}{'GC':>5}{'SG':>5}\")\n",
        "for i, linha in enumerate(tabela_25, 1):\n",
        "    clube, pts, pj, v, e, d, gp, gc, sg = linha\n",
        "    print(f\"{i:<4}{clube:<20}{pts:>4}{pj:>4}{v:>4}{e:>4}{d:>4}{gp:>5}{gc:>5}{sg:>5}\")\n"
      ],
      "metadata": {
        "colab": {
          "base_uri": "https://localhost:8080/"
        },
        "id": "yf3VfkAHJAt6",
        "outputId": "04d69945-c71d-42c4-8521-ec5aa2a1fd78"
      },
      "execution_count": 13,
      "outputs": [
        {
          "output_type": "stream",
          "name": "stdout",
          "text": [
            "Pos Equipe               Pts  PJ   V   E   D   GP   GC   SG\n",
            "1   Botafogo              52  25  16   4   5   40   16   24\n",
            "2   Bragantino            45  25  12   9   4   35   22   13\n",
            "3   Grêmio                44  25  13   5   7   40   32    8\n",
            "4   Palmeiras             44  25  12   8   5   39   20   19\n",
            "5   Flamengo              43  25  12   7   6   37   30    7\n",
            "6   Fluminense            41  25  12   5   8   34   29    5\n",
            "7   Atlético-MG           40  25  11   7   7   29   19   10\n",
            "8   Athletico-PR          40  25  11   7   7   37   29    8\n",
            "9   Fortaleza             39  25  11   6   8   30   24    6\n",
            "10  São Paulo             34  25   9   7   9   31   27    4\n",
            "11  Cuiabá                32  25   9   5  11   26   30   -4\n",
            "12  Cruzeiro              30  25   7   9   9   24   22    2\n",
            "13  Corinthians           30  25   7   9   9   29   31   -2\n",
            "14  Internacional         29  25   7   8  10   20   29   -9\n",
            "15  Santos                27  25   7   6  12   27   41  -14\n",
            "16  Goiás                 27  25   6   9  10   21   31  -10\n",
            "17  Vasco da Gama         26  25   7   5  13   27   38  -11\n",
            "18  Bahia                 25  25   6   7  12   28   34   -6\n",
            "19  América-MG            18  25   4   6  15   27   51  -24\n",
            "20  Coritiba              17  25   4   5  16   27   53  -26\n"
          ]
        }
      ]
    },
    {
      "cell_type": "markdown",
      "source": [
        "# Desafio Extra 4\n",
        "\n",
        "Gráfico de dispersão entre técnico mais longevo e posição no campeonato:"
      ],
      "metadata": {
        "id": "GRf7ZN1-J6bk"
      }
    },
    {
      "cell_type": "code",
      "source": [
        "import matplotlib.pyplot as plt\n",
        "\n",
        "# Criação do dicionário com longevidade por clube\n",
        "longevidade_tecnico = {clube: jogos for clube, tecnico, jogos in tecnicos_longevos}\n",
        "\n",
        "# Preparação dos dados para o gráfico\n",
        "posicoes = []\n",
        "jogos_tecnico = []\n",
        "clubes_plot = []\n",
        "\n",
        "for pos, linha in enumerate(tabela_final, 1):\n",
        "    clube = linha[0]\n",
        "    posicoes.append(pos)\n",
        "    jogos_tecnico.append(longevidade_tecnico.get(clube, 0))\n",
        "    clubes_plot.append(clube)\n",
        "\n",
        "# Criação do gráfico de dispersão\n",
        "plt.figure(figsize=(10, 6))\n",
        "plt.scatter(posicoes, jogos_tecnico, color='blue')\n",
        "\n",
        "# Adicionar os nomes dos clubes acima dos pontos\n",
        "for i in range(len(posicoes)):\n",
        "    plt.text(posicoes[i], jogos_tecnico[i] + 0.5, clubes_plot[i], fontsize=9, ha='center')\n",
        "\n",
        "# Configuração dos eixos e título\n",
        "plt.xlabel('Posição Final no Campeonato (1º = campeão)')\n",
        "plt.ylabel('Tempo do Técnico Mais Longevo (nº de jogos)')\n",
        "plt.title('Dispersão: Posição Final vs Tempo do Técnico Mais Longevo (Brasileirão 2023)')\n",
        "\n",
        "plt.gca().invert_xaxis()           # Posição 1 à esquerda\n",
        "plt.xticks(range(1, 21))           # Eixo X com posições 1 a 20\n",
        "\n",
        "plt.grid(True)\n",
        "plt.tight_layout()\n",
        "plt.show()\n",
        "\n",
        "\n"
      ],
      "metadata": {
        "colab": {
          "base_uri": "https://localhost:8080/",
          "height": 607
        },
        "id": "ILp0itB5KLDn",
        "outputId": "976c5220-029b-4f36-85d4-b8cb7de9ca2a"
      },
      "execution_count": 16,
      "outputs": [
        {
          "output_type": "display_data",
          "data": {
            "text/plain": [
              "<Figure size 1000x600 with 1 Axes>"
            ],
            "image/png": "[encoded data removed]"
          },
          "metadata": {}
        }
      ]
    }
  ]
}